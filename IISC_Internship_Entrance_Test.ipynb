{
  "nbformat": 4,
  "nbformat_minor": 0,
  "metadata": {
    "colab": {
      "provenance": [],
      "include_colab_link": true
    },
    "kernelspec": {
      "name": "python3",
      "display_name": "Python 3"
    },
    "language_info": {
      "name": "python"
    }
  },
  "cells": [
    {
      "cell_type": "markdown",
      "metadata": {
        "id": "view-in-github",
        "colab_type": "text"
      },
      "source": [
        "<a href=\"https://colab.research.google.com/github/sankar-010897/Python_projects/blob/main/IISC_Internship_Entrance_Test.ipynb\" target=\"_parent\"><img src=\"https://colab.research.google.com/assets/colab-badge.svg\" alt=\"Open In Colab\"/></a>"
      ]
    },
    {
      "cell_type": "code",
      "source": [
        "#If folium lib not installed the remove comment tag from the next line and run\n",
        "#!pip3 install folium\n",
        "import pandas as pd\n",
        "import folium\n",
        "from folium.plugins import HeatMap\n",
        "\n",
        "# Load GPS data from CSV file \n",
        "# using partial dataset\n",
        "gps_data = pd.read_csv('user.csv')\n",
        "\n",
        "\n",
        "heat_data_dict = {}\n",
        "uniq_ind = gps_data['individual_id'].unique() \n",
        "for i in uniq_ind:\n",
        "  ind_gps_data = gps_data[gps_data['individual_id'] == i][['latitude', 'longitude']]\n",
        "  individual_heat_data = [[row['latitude'],row['longitude']] for index, row in ind_gps_data.iterrows()]\n",
        "  heat_data_dict[i] = individual_heat_data\n"
      ],
      "metadata": {
        "id": "HSUpGOZ9GGqd"
      },
      "execution_count": null,
      "outputs": []
    },
    {
      "cell_type": "code",
      "source": [
        "# Create the map and add the heatmap layers for each individual\n",
        "average_heat_data_of_individuals = []\n",
        "beijing_map = folium.Map(location=[gps_data['latitude'].mean(), gps_data['longitude'].mean()], zoom_start=10)\n",
        "\n",
        "for i, hd in heat_data_dict.items():\n",
        "    heatmap_layer = HeatMap(hd)\n",
        "    beijing_map.add_child(heatmap_layer)\n",
        "    average_heat_data_of_individuals.extend(hd)\n",
        "\n",
        "## Compute the average heatmap data\n",
        "average_heat_data_of_individuals = pd.DataFrame(average_heat_data_of_individuals, columns=['latitude', 'longitude'])\n",
        "#average_heat_data = average_heat_data.dropna(axis=0, subset=['latitude','longitude'])\n",
        "average_heat_data_of_individuals = [[row['latitude'],row['longitude']] for index, row in average_heat_data_of_individuals.iterrows()]\n",
        "\n",
        "# Add the average heatmap layer to the map\n",
        "average_heatmap_layer = HeatMap(average_heat_data_of_individuals,\n",
        "                                gradient={0.4: 'blue', 0.65: 'lime', 1: 'red'})\n",
        "map.add_child(average_heatmap_layer)\n",
        "\n",
        "# Add a title to the map\n",
        "\n",
        "\n",
        "# Display the map\n",
        "beijing_map.save('beijing_heatmap_average.html')"
      ],
      "metadata": {
        "id": "8dMR_ZGRPIjs"
      },
      "execution_count": null,
      "outputs": []
    }
  ]
}