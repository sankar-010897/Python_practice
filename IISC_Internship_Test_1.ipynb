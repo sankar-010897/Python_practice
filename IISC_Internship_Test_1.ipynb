{
  "nbformat": 4,
  "nbformat_minor": 0,
  "metadata": {
    "colab": {
      "provenance": [],
      "mount_file_id": "12KNPz9lPgw2BfG_8LGeOB2617RiFQPKk",
      "authorship_tag": "ABX9TyNA0DBOiX5MTbJeLslYK73V",
      "include_colab_link": true
    },
    "kernelspec": {
      "name": "python3",
      "display_name": "Python 3"
    },
    "language_info": {
      "name": "python"
    }
  },
  "cells": [
    {
      "cell_type": "markdown",
      "metadata": {
        "id": "view-in-github",
        "colab_type": "text"
      },
      "source": [
        "<a href=\"https://colab.research.google.com/github/sankar-010897/Python_projects/blob/main/IISC_Internship_Test_1.ipynb\" target=\"_parent\"><img src=\"https://colab.research.google.com/assets/colab-badge.svg\" alt=\"Open In Colab\"/></a>"
      ]
    },
    {
      "cell_type": "code",
      "source": [
        "import pandas as pd\n",
        "import numpy as np\n",
        "import time\n",
        "import dask.dataframe as dd\n",
        "from dask import delayed"
      ],
      "metadata": {
        "id": "Es4VfSJtFTED"
      },
      "execution_count": 1,
      "outputs": []
    },
    {
      "cell_type": "code",
      "source": [
        "#Function to remove 0 duration rows\n",
        "def trip_statistics(data):\n",
        "  data = data[data['started_at'] != data['ended_at']]\n",
        "  data = data.reset_index(drop = True)\n",
        "\n",
        "  #maximum duration\n",
        "  max_dur = max_duration(data)\n",
        "\n",
        "  #minimum duration & number of trips\n",
        "  min_dur, trips_with_min_duration = min_duration(data)\n",
        "\n",
        "  #circular trips percentage for non 0 duration rows\n",
        "  circ_trips_percent = circular_trips_percentage(data)\n",
        "\n",
        "  print(\"Maximum duration of the trip: \",max_dur,\" mins\")\n",
        "  print(\"Minimum duration of the trip: \", min_dur,\" mins\")\n",
        "  print(\"Total number of trips corresponding to minimum duration: \", trips_with_min_duration)\n",
        "  print(\"Percentage of total circular trips: \", round(circ_trips_percent,2),\"%\")"
      ],
      "metadata": {
        "id": "VPsiGI6UPJq6"
      },
      "execution_count": null,
      "outputs": []
    },
    {
      "cell_type": "code",
      "source": [
        "#Function to return maximum duration\n",
        "def max_duration(data):\n",
        "  duration= []\n",
        "  rows = len(data)\n",
        "  max = (data['ended_at'][0] - data['started_at'][0]).seconds/60\n",
        "\n",
        "  for i in range(rows):\n",
        "    try:\n",
        "      dur = data['ended_at'][i] - data['started_at'][i]\n",
        "      duration.append(dur.seconds/60)\n",
        "    except:\n",
        "      print(\"Key Error\",i,rows)\n",
        "  \n",
        "  for time in duration:\n",
        "    if time > max:\n",
        "      max = time\n",
        "  \n",
        "  return max"
      ],
      "metadata": {
        "id": "JjTbVMEpG_7X"
      },
      "execution_count": null,
      "outputs": []
    },
    {
      "cell_type": "code",
      "source": [
        "#Function to return minimum duration\n",
        "def min_duration(data):\n",
        "  duration= []\n",
        "  rows = len(data)\n",
        "  min = (data['ended_at'][0] - data['started_at'][0]).seconds/60\n",
        "  trips = 0\n",
        "\n",
        "  for i in range(rows):\n",
        "    dur = data['ended_at'][i] - data['started_at'][i]\n",
        "    duration.append(dur.seconds/60)\n",
        "  \n",
        "  for time in duration:\n",
        "    if time < min:\n",
        "      min = time\n",
        "  for time in duration:\n",
        "    if time == min:\n",
        "      trips += 1\n",
        "  \n",
        "  return min, trips"
      ],
      "metadata": {
        "id": "tpuSkpPLUXVi"
      },
      "execution_count": null,
      "outputs": []
    },
    {
      "cell_type": "code",
      "source": [
        "#Percentage of circular trips\n",
        "def circular_trips_percentage(data):\n",
        "  r = data[data['start_lat'] == data['end_lat']]\n",
        "  r = r[r['start_lng'] == r['end_lng']]\n",
        "  data_rows = len(data)\n",
        "  circ_rows = len(r)\n",
        "\n",
        "  return (circ_rows / data_rows) *100"
      ],
      "metadata": {
        "id": "PoEPx5tQPMy5"
      },
      "execution_count": null,
      "outputs": []
    },
    {
      "cell_type": "code",
      "source": [
        "#Function to find the number of feasible pairs of trips\n",
        "def feasible_pairs(data):\n",
        "  # creating two seperate dataframes trip_A and trip_B\n",
        "  trip_A = data[['trip_id', 'ended_at', 'end_lat', 'end_lng']]\n",
        "  trip_A.rename(columns = {'end_lat':'lat', 'end_lng':'lng'}, inplace = True)\n",
        "\n",
        "  trip_B = data[['trip_id', 'started_at', 'start_lat', 'start_lng']]\n",
        "  trip_B.rename(columns = {'start_lat':'lat', 'start_lng':'lng'}, inplace = True)\n",
        "\n",
        "  #using merge to get the rows in which destination of trip-A is same as starting point of trip-B\n",
        "  join = pd.merge(trip_A, trip_B, how = 'inner', on=['lat','lng'])\n",
        "\n",
        "  #filtering the join such that trip-B starting time is greater than trip-A ending time\n",
        "  filter_join = join.loc[(join['started_at'] >= join['ended_at'])]\n",
        "  print('The total number of feasible pairs of trips are: ', len(filter_join)) "
      ],
      "metadata": {
        "id": "-kmtbgzMjAF2"
      },
      "execution_count": null,
      "outputs": []
    },
    {
      "cell_type": "code",
      "source": [
        "# Reading the Bike Dataset and data pre-processing\n",
        "data = pd.read_csv('bike_data_new.csv')\n",
        "data['started_at'] = pd.to_datetime(data['started_at'])\n",
        "data['ended_at'] = pd.to_datetime(data['ended_at'])"
      ],
      "metadata": {
        "id": "cssAqwaHE4Pu"
      },
      "execution_count": null,
      "outputs": []
    },
    {
      "cell_type": "code",
      "source": [
        "#Q1.1\n",
        "start_time = time.time()\n",
        "trip_statistics(data)\n",
        "print(\"--- %s seconds ---\" % (time.time() - start_time))"
      ],
      "metadata": {
        "colab": {
          "base_uri": "https://localhost:8080/"
        },
        "id": "7Rgj7lqxaMio",
        "outputId": "07fd3e88-a2bf-4105-fbb1-936b5a7bb802"
      },
      "execution_count": null,
      "outputs": [
        {
          "output_type": "stream",
          "name": "stdout",
          "text": [
            "Maximum duration of the trip:  518.0  mins\n",
            "Minimum duration of the trip:  1.0  mins\n",
            "Total number of trips corresponding to minimum duration:  89\n",
            "Percentage of total circular trips:  2.48 %\n",
            "--- 0.5475168228149414 seconds ---\n"
          ]
        }
      ]
    },
    {
      "cell_type": "code",
      "source": [
        "# Q1.2\n",
        "#Filtering dataset to include only the trips between 06:00 AM and 06:00 PM\n",
        "filtered_data = data.loc[(data['started_at'] >= '2023-01-02 06:00:00\t') & (data['started_at'] <= '2023-01-02 18:00:00\t')]"
      ],
      "metadata": {
        "id": "RYUW-ylyTUwo"
      },
      "execution_count": null,
      "outputs": []
    },
    {
      "cell_type": "code",
      "source": [
        "start_time = time.time()\n",
        "feasible_pairs(filtered_data)\n",
        "print(\"--- %s seconds ---\" % (time.time() - start_time))"
      ],
      "metadata": {
        "colab": {
          "base_uri": "https://localhost:8080/"
        },
        "id": "wVoKCqbImQLc",
        "outputId": "a8270952-4000-4c6e-e903-10a9e2b1b1ef"
      },
      "execution_count": null,
      "outputs": [
        {
          "output_type": "stream",
          "name": "stdout",
          "text": [
            "The total number of feasible pairs of trips are:  45540\n",
            "--- 0.0658421516418457 seconds ---\n"
          ]
        },
        {
          "output_type": "stream",
          "name": "stderr",
          "text": [
            "<ipython-input-28-86df543ab0aa>:5: SettingWithCopyWarning: \n",
            "A value is trying to be set on a copy of a slice from a DataFrame\n",
            "\n",
            "See the caveats in the documentation: https://pandas.pydata.org/pandas-docs/stable/user_guide/indexing.html#returning-a-view-versus-a-copy\n",
            "  trip_A.rename(columns = {'end_lat':'lat', 'end_lng':'lng'}, inplace = True)\n",
            "<ipython-input-28-86df543ab0aa>:8: SettingWithCopyWarning: \n",
            "A value is trying to be set on a copy of a slice from a DataFrame\n",
            "\n",
            "See the caveats in the documentation: https://pandas.pydata.org/pandas-docs/stable/user_guide/indexing.html#returning-a-view-versus-a-copy\n",
            "  trip_B.rename(columns = {'start_lat':'lat', 'start_lng':'lng'}, inplace = True)\n"
          ]
        }
      ]
    },
    {
      "cell_type": "markdown",
      "source": [
        "Q.2"
      ],
      "metadata": {
        "id": "9k4dRamsivxD"
      }
    },
    {
      "cell_type": "code",
      "source": [
        "# Functions\n",
        "def individual_distance_travelled(gps_individual):\n",
        "    # list of trajectory_id\n",
        "    traj_list = gps_individual['trajectory_id'].unique()\n",
        "    # total distance of each trajectory\n",
        "    traj_distance = []\n",
        "\n",
        "    for traj_id in traj_list:\n",
        "        gps_individual_traj = gps_individual[gps_individual['trajectory_id'] == traj_id]\n",
        "        polar_coord = gps_individual_traj[[\n",
        "            'latitude', 'longitude', 'altitude']]\n",
        "        d = get_traj_length(polar_coord).compute()\n",
        "        traj_distance.append(d)\n",
        "\n",
        "    traj_distance = np.array(traj_distance)\n",
        "    # sum of total distances\n",
        "    return np.sum(traj_distance)\n",
        "\n",
        "\n",
        "@delayed\n",
        "def get_traj_length(polar_coord):\n",
        "    polar_coord = polar_coord.reset_index(drop=True)\n",
        "    traj_length = []\n",
        "    n = len(polar_coord)\n",
        "\n",
        "    for i in range(0, n-1):\n",
        "        p1 = polar_coord.iloc[i].values\n",
        "        p2 = polar_coord.iloc[i+1].values\n",
        "        dist = dist_bw_points(p1, p2)\n",
        "        traj_length.append(dist)\n",
        "    traj_length = np.array(traj_length)\n",
        "    return np.sum(traj_length)\n",
        "\n",
        "\n",
        "def dist_bw_points(p1, p2):\n",
        "    p1 = polar_to_cartesian(p1)\n",
        "    p2 = polar_to_cartesian(p2)\n",
        "\n",
        "    dist = np.linalg.norm(p1-p2)\n",
        "    return dist\n",
        "\n",
        "\n",
        "def polar_to_cartesian(p):\n",
        "    lat, lng, alt = p[0], p[1], p[2]\n",
        "    # compute xyz\n",
        "    x = alt * np.cos(lat) * np.sin(lng)\n",
        "    y = alt * np.sin(lat)\n",
        "    z = alt * np.cos(lat) * np.cos(lng)\n",
        "    return np.array([x, y, z])\n",
        "\n",
        "\n",
        "# Pre-Processing\n",
        "start_time = time.time()\n",
        "gps_data = dd.read_csv('combined_trajectories.csv')\n",
        "user_distance_list = []\n",
        "print(\"--- %s seconds for pre processing---\" % (time.time() - start_time))\n",
        "# for part-1\n",
        "for i in range(1, 182):\n",
        "    gps_individual = gps_data[gps_data['individual_id'] == i]\n",
        "    gps_individual = gps_individual.reset_index(drop=True)\n",
        "    start_time = time.time()\n",
        "    d = delayed(individual_distance_travelled)(gps_individual).compute()\n",
        "    # d = individual_distance_travelled(gps_individual) with parallelization using dask\n",
        "    user_distance_list.append([i, d])\n",
        "    print(\"--- %s seconds ---\" % (time.time() - start_time))\n",
        "    print('The distance travelled by user', i, ': ', d)\n"
      ],
      "metadata": {
        "id": "yTC6eIJUsORz"
      },
      "execution_count": null,
      "outputs": []
    }
  ]
}