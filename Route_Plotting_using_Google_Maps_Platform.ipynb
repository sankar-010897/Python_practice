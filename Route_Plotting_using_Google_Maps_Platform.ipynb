{
  "nbformat": 4,
  "nbformat_minor": 0,
  "metadata": {
    "colab": {
      "provenance": [],
      "authorship_tag": "ABX9TyP1V+iLq9+jYmGuc8RWOhns",
      "include_colab_link": true
    },
    "kernelspec": {
      "name": "python3",
      "display_name": "Python 3"
    },
    "language_info": {
      "name": "python"
    }
  },
  "cells": [
    {
      "cell_type": "markdown",
      "metadata": {
        "id": "view-in-github",
        "colab_type": "text"
      },
      "source": [
        "<a href=\"https://colab.research.google.com/github/sankar-010897/Python_projects/blob/main/Route_Plotting_using_Google_Maps_Platform.ipynb\" target=\"_parent\"><img src=\"https://colab.research.google.com/assets/colab-badge.svg\" alt=\"Open In Colab\"/></a>"
      ]
    },
    {
      "cell_type": "markdown",
      "source": [
        "Plot Direction in Python"
      ],
      "metadata": {
        "id": "xGDHbqcN3emT"
      }
    },
    {
      "cell_type": "code",
      "execution_count": null,
      "metadata": {
        "id": "ZJvYXTvQ3SU0"
      },
      "outputs": [],
      "source": [
        "pip install gmaps"
      ]
    },
    {
      "cell_type": "markdown",
      "source": [
        "Extract the api key from secret text file"
      ],
      "metadata": {
        "id": "rKRelJh8CT8H"
      }
    },
    {
      "cell_type": "code",
      "source": [
        "api_file = open('apikey.txt', 'r')\n",
        "api_key = api_file.read()\n",
        "api_file.close()"
      ],
      "metadata": {
        "id": "HSQf0TZzB-C_"
      },
      "execution_count": 22,
      "outputs": []
    },
    {
      "cell_type": "markdown",
      "source": [
        "Link to get Latitude and longitude:\n",
        "https://www.mapsofworld.com/lat_long/"
      ],
      "metadata": {
        "id": "29HluIv7-qav"
      }
    },
    {
      "cell_type": "code",
      "source": [
        "import gmaps\n",
        "from datetime import datetime\n",
        "gmaps.configure(api_key=api_key)\n",
        "origin = (22.30389, 70.80216)\n",
        "destination = (23.02250, 72.57136)\n",
        "now = datetime.now()\n",
        "layer = gmaps.directions.Directions(origin,destination,mode = \"driving\", avoid = \"ferries\", departure_time = now)\n",
        "fig = gmaps.figure()\n",
        "fig.add_layer(layer)"
      ],
      "metadata": {
        "id": "QXcQIXAI3nI0"
      },
      "execution_count": 24,
      "outputs": []
    },
    {
      "cell_type": "code",
      "source": [
        "from google.colab import output\n",
        "output.enable_custom_widget_manager()\n"
      ],
      "metadata": {
        "id": "ycmMDSzJ4pJL"
      },
      "execution_count": 12,
      "outputs": []
    },
    {
      "cell_type": "code",
      "source": [
        "fig"
      ],
      "metadata": {
        "id": "Dw0Vy7wB5qg7"
      },
      "execution_count": null,
      "outputs": []
    },
    {
      "cell_type": "markdown",
      "source": [
        "Plot TSP Model Output"
      ],
      "metadata": {
        "id": "NFPlcm-i9Wu8"
      }
    },
    {
      "cell_type": "code",
      "source": [
        "lat_dict ={}\n",
        "lon_dict = {}\n",
        "cities = [\"Ahmedabad\", \"Surat\", \"Vadodara\", \"Rajkot\", \"Gandhinagar\", \"Anand\"]\n",
        "lat = [72.57136, 21.17024, 22.30716, 22.30389, 23.21564, 22.56452]\n",
        "lon = [72.57136, 72.83106, 73.18122, 70.80216, 72.63694, 72.92887]\n",
        "for i in range(len(cities)):\n",
        "  lat_dict[cities[i]] = lat[i]\n",
        "  lon_dict[cities[i]] = lon[i]"
      ],
      "metadata": {
        "id": "vIj8o6Co5q_-"
      },
      "execution_count": 16,
      "outputs": []
    },
    {
      "cell_type": "code",
      "source": [
        "lat_dict"
      ],
      "metadata": {
        "colab": {
          "base_uri": "https://localhost:8080/"
        },
        "id": "2B1c0W52_RhZ",
        "outputId": "5bed09f6-8dbf-463f-af3c-d359e022858c"
      },
      "execution_count": 17,
      "outputs": [
        {
          "output_type": "execute_result",
          "data": {
            "text/plain": [
              "{'Ahmedabad': 72.57136,\n",
              " 'Surat': 21.17024,\n",
              " 'Vadodara': 22.30716,\n",
              " 'Rajkot': 22.30389,\n",
              " 'Gandhinagar': 23.21564,\n",
              " 'Anand': 22.56452}"
            ]
          },
          "metadata": {},
          "execution_count": 17
        }
      ]
    },
    {
      "cell_type": "code",
      "source": [
        "route = cities\n",
        "route.append(\"Ahmedabad\")\n",
        "route"
      ],
      "metadata": {
        "id": "Akr_yJpp_V7P"
      },
      "execution_count": null,
      "outputs": []
    },
    {
      "cell_type": "code",
      "source": [
        "import gmaps\n",
        "gmaps.configure(api_key=api_key)\n",
        "fig = gmaps.figure()\n",
        "for i in range(len(route)-1):\n",
        "  from_node = route[i]\n",
        "  to_node = route[i+1]\n",
        "\n",
        "  layer = gmaps.directions.Directions((lat_dict[from_node],lon_dict[from_node]), (lat_dict[to_node], lon_dict[to_node]), mode = \"driving\", departure_time = now)\n",
        "  fig.add_layer(layer)\n",
        "fig"
      ],
      "metadata": {
        "id": "Z4q_uHl5_tEE"
      },
      "execution_count": null,
      "outputs": []
    },
    {
      "cell_type": "code",
      "source": [],
      "metadata": {
        "id": "QxtT1bE8BSQ6"
      },
      "execution_count": null,
      "outputs": []
    }
  ]
}